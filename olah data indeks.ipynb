{
 "cells": [
  {
   "cell_type": "markdown",
   "id": "75922f58",
   "metadata": {},
   "source": [
    "### Prapengolahan"
   ]
  },
  {
   "cell_type": "code",
   "execution_count": 1,
   "id": "2e49cef6",
   "metadata": {},
   "outputs": [],
   "source": [
    "import pandas as pd\n",
    "import numpy as np\n",
    "import os\n",
    "import olah_data as od\n",
    "pd.options.display.max_columns = None"
   ]
  },
  {
   "cell_type": "code",
   "execution_count": null,
   "id": "c9843dc2",
   "metadata": {},
   "outputs": [],
   "source": []
  },
  {
   "cell_type": "code",
   "execution_count": 2,
   "id": "418d6548",
   "metadata": {},
   "outputs": [],
   "source": [
    "# DEFINE DATA MENTAH\n",
    "\n",
    "# kriteria = 'call center'\n",
    "# kriteria_call_center = 'car insurance'\n",
    "# kriteria = 'twitter'\n",
    "kriteria = 'email'\n",
    "\n",
    "file_data_mentah = 'data mentah '+kriteria+'.xlsx'\n",
    "file_bobot = \"bobot/bobot perhitungan \"+kriteria+\".xlsx\"\n",
    "\n",
    "data_mentah = pd.read_excel(file_data_mentah)\n",
    "\n",
    "# LOAD DATA BOBOT\n",
    "daftar_bobot = pd.read_excel(file_bobot, sheet_name='indeks')\n",
    "data_bobot = od.data_bobot(daftar_bobot)"
   ]
  },
  {
   "cell_type": "code",
   "execution_count": 3,
   "id": "31a89a8d",
   "metadata": {},
   "outputs": [],
   "source": [
    "# GANTI NAMA BULAN KE NOMOR BULAN\n",
    "data_mentah.Bulan = od.ganti_bulan(data_mentah.Bulan,'nama bulan','nomor bulan')\n",
    "\n",
    "# DROP NULL ROW\n",
    "data_mentah = od.drop_null_row(data_mentah)\n",
    "\n",
    "# DEFINE LIST BRAND\n",
    "list_brand = data_mentah['Brand'].unique()\n",
    "if kriteria == 'call center':\n",
    "    brand_ivr, brand_nonivr = od.get_ivr_nonivr(list_brand, kriteria_call_center)\n",
    "\n",
    "# TABEL CROSSTAB\n",
    "crosstab_rata_transpose= od.crosstab_rata_transpose(data_mentah, list_brand)"
   ]
  },
  {
   "cell_type": "markdown",
   "id": "ae471581",
   "metadata": {},
   "source": [
    "### perhitungan indeks"
   ]
  },
  {
   "cell_type": "code",
   "execution_count": 4,
   "id": "49566c9d",
   "metadata": {},
   "outputs": [],
   "source": [
    "# DEFINE LIST BULAN\n",
    "list_bulan= pd.Series(data_mentah.Bulan.unique())\n",
    "list_bulan = list(od.ganti_bulan(list_bulan,'nomor bulan','nama bulan'))\n",
    "\n",
    "\n",
    "if kriteria=='call center':\n",
    "    nilai_subaspek = od.nilai_sub_aspek(kriteria, daftar_bobot, list_bulan, list_brand, crosstab_rata_transpose,\n",
    "                                       kriteria_call_center)\n",
    "    nilai_aspek = od.nilai_aspek_with_sub(kriteria, daftar_bobot, list_bulan, list_brand, crosstab_rata_transpose, nilai_subaspek,\n",
    "                                         kriteria_call_center)    \n",
    "elif kriteria=='email':\n",
    "    nilai_aspek = od.nilai_aspek_with_sub(kriteria, daftar_bobot, list_bulan, list_brand, crosstab_rata_transpose, None)\n",
    "else:\n",
    "    nilai_subaspek = od.nilai_sub_aspek(kriteria, daftar_bobot, list_bulan, list_brand, crosstab_rata_transpose)\n",
    "    nilai_aspek = od.nilai_aspek_with_sub(kriteria, daftar_bobot, list_bulan, list_brand, crosstab_rata_transpose, nilai_subaspek)    \n",
    "nilai_aspek_only = od.nilai_aspek_without_sub(kriteria, daftar_bobot, list_bulan, list_brand, crosstab_rata_transpose, nilai_aspek)\n",
    "df_aspek_pivot = od.df_aspek_pivot(nilai_aspek, nilai_aspek_only, list_bulan)\n",
    "tabel_summary_aspek = od.tabel_summary(df_aspek_pivot, list_bulan)\n",
    "\n",
    "\n",
    "if kriteria=='call center':\n",
    "    df_subkpi_pivot = od.df_subkpi_pivot(kriteria, daftar_bobot, list_bulan, list_brand, df_aspek_pivot,\n",
    "                                        kriteria_call_center)\n",
    "    df_kpi_pivot = od.df_kpi_pivot(kriteria, daftar_bobot, list_bulan, list_brand, df_subkpi_pivot,\n",
    "                                  kriteria_call_center)\n",
    "    df_dimensi_pivot = od.df_dimensi_pivot(kriteria, daftar_bobot, list_bulan, list_brand, df_kpi_pivot,\n",
    "                                          kriteria_call_center)\n",
    "    df_ccsei_pivot = od.df_ccsei_pivot(kriteria, daftar_bobot, list_bulan, list_brand, df_dimensi_pivot,\n",
    "                                      kriteria_call_center)    \n",
    "else:\n",
    "    df_subkpi_pivot = od.df_subkpi_pivot(kriteria, daftar_bobot, list_bulan, list_brand, df_aspek_pivot)\n",
    "    df_kpi_pivot = od.df_kpi_pivot(kriteria, daftar_bobot, list_bulan, list_brand, df_subkpi_pivot)\n",
    "    df_dimensi_pivot = od.df_dimensi_pivot(kriteria, daftar_bobot, list_bulan, list_brand, df_kpi_pivot)\n",
    "    df_ccsei_pivot = od.df_ccsei_pivot(kriteria, daftar_bobot, list_bulan, list_brand, df_dimensi_pivot)    \n",
    "    \n",
    "    \n",
    "tabel_summary_subkpi = od.tabel_summary(df_subkpi_pivot, list_bulan)\n",
    "tabel_summary_kpi = od.tabel_summary(df_kpi_pivot, list_bulan)\n",
    "tabel_summary_dimensi = od.tabel_summary(df_dimensi_pivot, list_bulan)\n",
    "\n",
    "\n",
    "# Load Data Bobot Engagement\n",
    "bobot_engagement = pd.read_excel(file_bobot, sheet_name='engagement')\n",
    "if kriteria=='call center':\n",
    "    tabel_be_avg, df_eng_final_pivot = od.engagement(kriteria, bobot_engagement, df_aspek_pivot, list_bulan, list_brand, \n",
    "                                                     None, kriteria_call_center)\n",
    "elif kriteria=='twitter':\n",
    "    tabel_be_avg, df_eng_final_pivot = od.engagement(kriteria, bobot_engagement, df_aspek_pivot, list_bulan, list_brand)    \n",
    "else:\n",
    "    tabel_be_avg, df_eng_final_pivot = od.engagement(kriteria, bobot_engagement, df_aspek_pivot, list_bulan, list_brand, \n",
    "                                                     crosstab_rata_transpose)\n",
    "    \n",
    "    \n",
    "# Load Data Bobot Impact perbaikan\n",
    "bobot_perbaikan = pd.read_excel(file_bobot, sheet_name='perbaikan')\n",
    "if kriteria=='call center':\n",
    "    area_perbaikan = od.area_perbaikan(kriteria, data_mentah, bobot_perbaikan, list_bulan, list_brand,\n",
    "                                      kriteria_call_center)\n",
    "else:\n",
    "    area_perbaikan = od.area_perbaikan(kriteria, data_mentah, bobot_perbaikan, list_bulan, list_brand)    \n",
    "    \n",
    "index_by_kpi, index_by_dimensi = od.tabel_indeks(tabel_summary_kpi, tabel_summary_dimensi, list_bulan)    "
   ]
  },
  {
   "cell_type": "code",
   "execution_count": 5,
   "id": "ff2c83ee",
   "metadata": {},
   "outputs": [],
   "source": [
    "# df_ccsei_pivot"
   ]
  },
  {
   "cell_type": "markdown",
   "id": "90b2a5d1",
   "metadata": {},
   "source": [
    "### Simpan Data ke Ms Excel"
   ]
  },
  {
   "cell_type": "code",
   "execution_count": 6,
   "id": "84b13466",
   "metadata": {},
   "outputs": [],
   "source": [
    "nama_output = \"tabel output/tabel output \"+kriteria+\".xlsx\"\n",
    "\n",
    "list_simpan = [data_mentah, crosstab_rata_transpose, tabel_summary_aspek, tabel_summary_subkpi, tabel_summary_kpi,\n",
    "              tabel_summary_dimensi, index_by_kpi, index_by_dimensi, df_ccsei_pivot, tabel_be_avg,\n",
    "              df_eng_final_pivot, area_perbaikan]\n",
    "\n",
    "list_nama_simpan = ['data mentah','crosstab rata-rata','aspek','subkpi','kpi','dimensi','index by kpi','index by dimensi','index akhir',\n",
    "                   'engagement index aspek','engagement index final','aspek perbaikan']\n",
    "\n",
    "writer = pd.ExcelWriter(nama_output)\n",
    "for i in range(len(list_simpan)):\n",
    "    if (list_nama_simpan[i]=='data mentah'):\n",
    "        list_simpan[i].to_excel(writer,sheet_name=list_nama_simpan[i], index=False)\n",
    "    else:\n",
    "        list_simpan[i].to_excel(writer,sheet_name=list_nama_simpan[i])\n",
    "writer.save() "
   ]
  }
 ],
 "metadata": {
  "kernelspec": {
   "display_name": "Python 3",
   "language": "python",
   "name": "python3"
  },
  "language_info": {
   "codemirror_mode": {
    "name": "ipython",
    "version": 3
   },
   "file_extension": ".py",
   "mimetype": "text/x-python",
   "name": "python",
   "nbconvert_exporter": "python",
   "pygments_lexer": "ipython3",
   "version": "3.8.5"
  },
  "toc": {
   "base_numbering": 1,
   "nav_menu": {},
   "number_sections": true,
   "sideBar": true,
   "skip_h1_title": false,
   "title_cell": "Table of Contents",
   "title_sidebar": "Contents",
   "toc_cell": false,
   "toc_position": {
    "height": "833.333px",
    "left": "38px",
    "top": "110.049px",
    "width": "426.667px"
   },
   "toc_section_display": true,
   "toc_window_display": false
  }
 },
 "nbformat": 4,
 "nbformat_minor": 5
}
