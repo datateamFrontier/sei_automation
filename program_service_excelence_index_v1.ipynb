{
 "cells": [
  {
   "cell_type": "code",
   "execution_count": 2,
   "id": "2ea2ad72",
   "metadata": {},
   "outputs": [],
   "source": [
    "import numpy as np\n",
    "import os\n",
    "import time\n",
    "\n",
    "import pandas as pd\n",
    "pd.options.display.max_columns = None\n",
    "\n",
    "import ppt_ccsei\n",
    "import olah_data as od"
   ]
  },
  {
   "cell_type": "code",
   "execution_count": 3,
   "id": "b53cf52f",
   "metadata": {},
   "outputs": [
    {
     "data": {
      "text/plain": [
       "\"\\nolah_indeks_sei = tulis 'y' atau 'Y' jika akan melakukan pengolahan indeks. Tulis 'n' atau 'N' jika tidak ingin melakukan olah indeks\\nlaporan_sei = tulis 'y' atau 'Y' jika akan membuat laporan. Tulis 'n' atau 'N' jika tidak ingin membuat laporan\\n\\nOLAH DATA\\nkategori : diisi 'call center' atau 'twitter' atau 'email'\\nkategori_call_center : hanya digunakan jika kategori 'call center' untuk menentukan brand ivr dan non-ivr. Perlu diisi dengan 'car insurance', 'courier', 'regular banking' (bisa jadi ada tambahan lain)\\n\\nPEMBUATAN LAPORAN PPT\\ndata_tahun : digunakan untuk menulis tahun di laporan\\nclient : nama brand yang akan dibuatkan laporan\\ngambar_footer : logo di footer yang akan digunakan\\n\""
      ]
     },
     "execution_count": 3,
     "metadata": {},
     "output_type": "execute_result"
    }
   ],
   "source": [
    "\"\"\"\n",
    "olah_indeks_sei = tulis 'y' atau 'Y' jika akan melakukan pengolahan indeks. Tulis 'n' atau 'N' jika tidak ingin melakukan olah indeks\n",
    "laporan_sei = tulis 'y' atau 'Y' jika akan membuat laporan. Tulis 'n' atau 'N' jika tidak ingin membuat laporan\n",
    "\n",
    "OLAH DATA\n",
    "kategori : diisi 'call center' atau 'twitter' atau 'email'\n",
    "kategori_call_center : hanya digunakan jika kategori 'call center' untuk menentukan brand ivr dan non-ivr. Perlu diisi dengan 'car insurance', 'courier', 'regular banking' (bisa jadi ada tambahan lain)\n",
    "\n",
    "PEMBUATAN LAPORAN PPT\n",
    "data_tahun : digunakan untuk menulis tahun di laporan\n",
    "client : nama brand yang akan dibuatkan laporan\n",
    "gambar_footer : logo di footer yang akan digunakan\n",
    "\"\"\""
   ]
  },
  {
   "cell_type": "code",
   "execution_count": 4,
   "id": "01613609",
   "metadata": {},
   "outputs": [],
   "source": [
    "# olah_indeks_sei = 'y'\n",
    "# laporan_sei = 'y'\n",
    "\n",
    "# kategori = 'call center'\n",
    "# kategori_call_center = 'car insurance'\n",
    "# client = 'Garda Akses Asuransi Astra'\n",
    "# gambar_footer = 'gambar/Asuransi Astra2.png'\n",
    "\n",
    "# kategori = 'email'\n",
    "# client = 'customercare@commbank.co.id'\n",
    "# gambar_footer='gambar/COMMBANK.jpg'\n",
    "\n",
    "# kategori = 'twitter'\n",
    "# client = '@GardaOto'\n",
    "# gambar_footer = 'gambar/Asuransi Astra2.png'\n",
    "\n",
    "# data_tahun = 2021"
   ]
  },
  {
   "cell_type": "code",
   "execution_count": 1,
   "id": "ed498bda",
   "metadata": {},
   "outputs": [
    {
     "name": "stdout",
     "output_type": "stream",
     "text": [
      "***PROGRAM SERVICE EXCELENCE INDEX (SEI)***\n"
     ]
    },
    {
     "name": "stdin",
     "output_type": "stream",
     "text": [
      "Apakah Anda ingin melakukan olah indeks SEI? (y/n):  y\n"
     ]
    },
    {
     "name": "stdout",
     "output_type": "stream",
     "text": [
      "-----------------------------------------------------------------------\n"
     ]
    },
    {
     "name": "stdin",
     "output_type": "stream",
     "text": [
      "Kategori SEI\n",
      "1. call center\n",
      "2. email\n",
      "3. twitter\n",
      "Pilihan kategori SEI Anda? (1/2/3):  1\n"
     ]
    },
    {
     "name": "stdout",
     "output_type": "stream",
     "text": [
      "-----------------------------------------------------------------------\n"
     ]
    },
    {
     "name": "stdin",
     "output_type": "stream",
     "text": [
      "Kategori Call Center\n",
      "1. car insurance\n",
      "2. courier\n",
      "3. regular banking\n",
      "Pilihan kategori Call Center Anda? (1/2/3):  1\n"
     ]
    },
    {
     "name": "stdout",
     "output_type": "stream",
     "text": [
      "-----------------------------------------------------------------------\n"
     ]
    },
    {
     "name": "stdin",
     "output_type": "stream",
     "text": [
      "Apakah Anda ingin membuat laporan PowerPoint? (y/n):  n\n"
     ]
    },
    {
     "name": "stdout",
     "output_type": "stream",
     "text": [
      "-----------------------------------------------------------------------\n"
     ]
    },
    {
     "name": "stdin",
     "output_type": "stream",
     "text": [
      "Silakan masukkan tahun pembuatan data:  2021\n"
     ]
    },
    {
     "name": "stdout",
     "output_type": "stream",
     "text": [
      "-----------------------------------------------------------------------\n"
     ]
    }
   ],
   "source": [
    "\n",
    "def kategori_sei():\n",
    "    kategori = input(\"Kategori SEI\\n\"+\n",
    "                    \"1. call center\\n2. email\\n3. twitter\\n\"+\n",
    "                    \"Pilihan kategori SEI Anda? (1/2/3): \")\n",
    "    print('-----------------------------------------------------------------------')\n",
    "    if kategori=='1':\n",
    "        kategori='call center'\n",
    "        kategori_call_center = input(\"Kategori Call Center\\n\"+\n",
    "                                    \"1. car insurance\\n2. courier\\n3. regular banking\\n\"+\n",
    "                                    \"Pilihan kategori Call Center Anda? (1/2/3): \")\n",
    "        print('-----------------------------------------------------------------------')\n",
    "        if kategori_call_center=='1':\n",
    "            kategori_call_center='car insurance'\n",
    "        elif kategori_call_center=='2':\n",
    "            kategori_call_center='courier'\n",
    "        elif kategori_call_center=='3':\n",
    "            kategori_call_center='regular banking'\n",
    "        else:\n",
    "            print(\"Pilihan yang Anda masukkan tidak tersedia, silakan coba lagi.\")\n",
    "            exit()\n",
    "    elif kategori=='2':\n",
    "        kategori='email'\n",
    "        kategori_call_center = None\n",
    "    elif kategori=='3':\n",
    "        kategori='twitter'\n",
    "        kategori_call_center = None\n",
    "    else:\n",
    "        print(\"Pilihan yang Anda masukkan tidak tersedia, silakan coba lagi.\")\n",
    "        exit()\n",
    "    return kategori, kategori_call_center\n",
    "\n",
    "print(\"***PROGRAM SERVICE EXCELENCE INDEX (SEI)***\")\n",
    "olah_indeks_sei = input(\"Apakah Anda ingin melakukan olah indeks SEI? (y/n): \")\n",
    "print('-----------------------------------------------------------------------')\n",
    "if olah_indeks_sei=='y':\n",
    "    kategori, kategori_call_center = kategori_sei()\n",
    "elif olah_indeks_sei=='n':\n",
    "    pass\n",
    "else:\n",
    "    print(\"Pilihan yang Anda masukkan tidak tersedia, silakan coba lagi.\")\n",
    "    exit()\n",
    "\n",
    "laporan_sei = input(\"Apakah Anda ingin membuat laporan PowerPoint? (y/n): \")\n",
    "print('-----------------------------------------------------------------------')\n",
    "if laporan_sei=='n':\n",
    "    pass\n",
    "elif laporan_sei=='y':\n",
    "    if olah_indeks_sei=='n':\n",
    "        kategori, kategori_call_center = kategori_sei()\n",
    "    file_data_mentah = 'data mentah/data mentah '+kategori+'.xlsx'\n",
    "    data_mentah = pd.read_excel(file_data_mentah)\n",
    "    brands = data_mentah['Brand'].unique()\n",
    "    print(\"Daftar Brand terdeteksi:\")\n",
    "    for idx_brd, brd in enumerate(brands):\n",
    "        print(\"%d. %s\"%(idx_brd+1, brd))\n",
    "    client = input(\"Nama brand client yang Anda ingin buatkan laporan (silakan pilih nomor-nya): \")\n",
    "    client = brands[int(client)-1]\n",
    "    print('-----------------------------------------------------------------------')\n",
    "    gambar_footer = input(\"PASTIKAN FILE GAMBAR ADA DI FOLDER 'gambar'\\n\"+\n",
    "                          \"Nama file beserta format extension-nya (.png/.jpg/.jpeg) yang akan digunakan sebagai gambar footer laporan: \")\n",
    "    print('-----------------------------------------------------------------------')\n",
    "    gambar_footer = 'gambar/%s'%(gambar_footer)\n",
    "    data_tahun = int(input(\"Silakan masukkan tahun pembuatan data: \"))\n",
    "    print('-----------------------------------------------------------------------')    \n",
    "else:\n",
    "    print(\"Pilihan yang Anda masukkan tidak tersedia, silakan coba lagi.\")\n",
    "    exit()\n",
    "\n",
    "if olah_indeks_sei=='y' and laporan_sei=='n':\n",
    "    data_tahun = int(input(\"Silakan masukkan tahun pembuatan data: \"))\n",
    "    print('-----------------------------------------------------------------------')\n"
   ]
  },
  {
   "cell_type": "code",
   "execution_count": null,
   "id": "db98764e",
   "metadata": {},
   "outputs": [],
   "source": []
  },
  {
   "cell_type": "code",
   "execution_count": null,
   "id": "d631c62a",
   "metadata": {},
   "outputs": [],
   "source": []
  },
  {
   "cell_type": "markdown",
   "id": "f23c1168",
   "metadata": {},
   "source": [
    "# olah data"
   ]
  },
  {
   "cell_type": "code",
   "execution_count": 7,
   "id": "ec6ad7cf",
   "metadata": {},
   "outputs": [
    {
     "name": "stdout",
     "output_type": "stream",
     "text": [
      "olah indeks data tidak dilakukan\n"
     ]
    }
   ],
   "source": [
    "\n",
    "if olah_indeks_sei == 'y' or olah_indeks_sei == 'Y':\n",
    "    print(\"Olah indkes SEI sedang dalam proses ...\")\n",
    "    start = time.time()\n",
    "\n",
    "    file_data_mentah = 'data mentah/data mentah '+kategori+'.xlsx'\n",
    "    file_bobot = \"bobot/bobot perhitungan \"+kategori+\".xlsx\"\n",
    "\n",
    "    data_mentah = pd.read_excel(file_data_mentah)\n",
    "\n",
    "    # LOAD DATA BOBOT\n",
    "    daftar_bobot = pd.read_excel(file_bobot, sheet_name='indeks')\n",
    "    data_bobot = od.data_bobot(daftar_bobot)\n",
    "\n",
    "    # GANTI NAMA BULAN KE NOMOR BULAN\n",
    "    data_mentah.Bulan = od.ganti_bulan(data_mentah.Bulan,'nama bulan','nomor bulan')\n",
    "\n",
    "    # DROP NULL ROW\n",
    "    data_mentah = od.drop_null_row(data_mentah)\n",
    "\n",
    "    # DEFINE LIST BRAND\n",
    "    list_brand = data_mentah['Brand'].unique()\n",
    "    if kategori == 'call center':\n",
    "        brand_ivr, brand_nonivr = od.get_ivr_nonivr(list_brand, kategori_call_center)\n",
    "\n",
    "    # TABEL CROSSTAB\n",
    "    crosstab_rata_transpose= od.crosstab_rata_transpose(data_mentah, list_brand)\n",
    "\n",
    "    # DEFINE LIST BULAN\n",
    "    list_bulan= pd.Series(data_mentah.Bulan.unique())\n",
    "    list_bulan = list(od.ganti_bulan(list_bulan,'nomor bulan','nama bulan'))\n",
    "\n",
    "    # Olah indeks\n",
    "    if kategori=='call center':\n",
    "        nilai_subaspek = od.nilai_sub_aspek(kategori, daftar_bobot, list_bulan, list_brand, crosstab_rata_transpose,\n",
    "                                           kategori_call_center)\n",
    "        nilai_aspek = od.nilai_aspek_with_sub(kategori, daftar_bobot, list_bulan, list_brand, crosstab_rata_transpose, nilai_subaspek,\n",
    "                                             kategori_call_center)\n",
    "    elif kategori=='email':\n",
    "        nilai_aspek = od.nilai_aspek_with_sub(kategori, daftar_bobot, list_bulan, list_brand, crosstab_rata_transpose, None)\n",
    "    else:\n",
    "        nilai_subaspek = od.nilai_sub_aspek(kategori, daftar_bobot, list_bulan, list_brand, crosstab_rata_transpose)\n",
    "        nilai_aspek = od.nilai_aspek_with_sub(kategori, daftar_bobot, list_bulan, list_brand, crosstab_rata_transpose, nilai_subaspek)\n",
    "    nilai_aspek_only = od.nilai_aspek_without_sub(kategori, daftar_bobot, list_bulan, list_brand, crosstab_rata_transpose, nilai_aspek)\n",
    "    df_aspek_pivot = od.df_aspek_pivot(nilai_aspek, nilai_aspek_only, list_bulan)\n",
    "    tabel_summary_aspek = od.tabel_summary(df_aspek_pivot, list_bulan)\n",
    "\n",
    "    if kategori=='call center':\n",
    "        df_subkpi_pivot = od.df_subkpi_pivot(kategori, daftar_bobot, list_bulan, list_brand, df_aspek_pivot,\n",
    "                                            kategori_call_center)\n",
    "        df_kpi_pivot = od.df_kpi_pivot(kategori, daftar_bobot, list_bulan, list_brand, df_subkpi_pivot,\n",
    "                                      kategori_call_center)\n",
    "        df_dimensi_pivot = od.df_dimensi_pivot(kategori, daftar_bobot, list_bulan, list_brand, df_kpi_pivot,\n",
    "                                              kategori_call_center)\n",
    "        df_ccsei_pivot = od.df_ccsei_pivot(kategori, daftar_bobot, list_bulan, list_brand, df_dimensi_pivot,\n",
    "                                          kategori_call_center)\n",
    "    else:\n",
    "        df_subkpi_pivot = od.df_subkpi_pivot(kategori, daftar_bobot, list_bulan, list_brand, df_aspek_pivot)\n",
    "        df_kpi_pivot = od.df_kpi_pivot(kategori, daftar_bobot, list_bulan, list_brand, df_subkpi_pivot)\n",
    "        df_dimensi_pivot = od.df_dimensi_pivot(kategori, daftar_bobot, list_bulan, list_brand, df_kpi_pivot)\n",
    "        df_ccsei_pivot = od.df_ccsei_pivot(kategori, daftar_bobot, list_bulan, list_brand, df_dimensi_pivot)\n",
    "\n",
    "    tabel_summary_subkpi = od.tabel_summary(df_subkpi_pivot, list_bulan)\n",
    "    tabel_summary_kpi = od.tabel_summary(df_kpi_pivot, list_bulan)\n",
    "    tabel_summary_dimensi = od.tabel_summary(df_dimensi_pivot, list_bulan)\n",
    "\n",
    "    # Olah indeks engagement\n",
    "    bobot_engagement = pd.read_excel(file_bobot, sheet_name='engagement')\n",
    "    if kategori=='call center':\n",
    "        tabel_be_avg, df_eng_final_pivot = od.engagement(kategori, bobot_engagement, df_aspek_pivot, list_bulan, list_brand,\n",
    "                                                         None, kategori_call_center)\n",
    "    elif kategori=='twitter':\n",
    "        tabel_be_avg, df_eng_final_pivot = od.engagement(kategori, bobot_engagement, df_aspek_pivot, list_bulan, list_brand)\n",
    "    else:\n",
    "        tabel_be_avg, df_eng_final_pivot = od.engagement(kategori, bobot_engagement, df_aspek_pivot, list_bulan, list_brand,\n",
    "                                                         crosstab_rata_transpose)\n",
    "    # Olah indeks area perbaikan\n",
    "    bobot_perbaikan = pd.read_excel(file_bobot, sheet_name='perbaikan')\n",
    "    if kategori=='call center':\n",
    "        area_perbaikan = od.area_perbaikan(kategori, data_mentah, bobot_perbaikan, list_bulan, list_brand,\n",
    "                                          kategori_call_center)\n",
    "    else:\n",
    "        area_perbaikan = od.area_perbaikan(kategori, data_mentah, bobot_perbaikan, list_bulan, list_brand)\n",
    "\n",
    "    index_by_kpi, index_by_dimensi = od.tabel_indeks(tabel_summary_kpi, tabel_summary_dimensi, list_bulan)\n",
    "    print(\"data indeks selesai dibuat\")\n",
    "\n",
    "    # simpan data olah indeks\n",
    "    nama_output = \"tabel output/tabel output \"+kategori+\" \"+str(data_tahun)+\".xlsx\"\n",
    "    list_simpan = [data_mentah, crosstab_rata_transpose, tabel_summary_aspek, tabel_summary_subkpi, tabel_summary_kpi,\n",
    "                  tabel_summary_dimensi, index_by_kpi, index_by_dimensi, df_ccsei_pivot, tabel_be_avg,\n",
    "                  df_eng_final_pivot, area_perbaikan]\n",
    "    list_nama_simpan = ['data mentah','crosstab rata-rata','aspek','subkpi','kpi','dimensi','index by kpi','index by dimensi','index akhir',\n",
    "                       'engagement index aspek','engagement index final','aspek perbaikan']\n",
    "    writer = pd.ExcelWriter(nama_output)\n",
    "    for i in range(len(list_simpan)):\n",
    "        if (list_nama_simpan[i]=='data mentah'):\n",
    "            list_simpan[i].to_excel(writer,sheet_name=list_nama_simpan[i], index=False)\n",
    "        else:\n",
    "            list_simpan[i].to_excel(writer,sheet_name=list_nama_simpan[i])\n",
    "    writer.save()\n",
    "    print(\"data indeks berhasil disimpan di folder '%s' dengan nama '%s'\"%(nama_output.split('/')[0],nama_output.split('/')[1]))\n",
    "\n",
    "    end = time.time()\n",
    "    hours, rem = divmod(end-start, 3600)\n",
    "    minutes, seconds = divmod(rem, 60)\n",
    "    print(\"durasi pengolahan data: {:0>2} jam {:0>2} menit {:05.2f} detik\".format(int(hours),int(minutes),seconds))\n",
    "\n",
    "elif olah_indeks_sei == 'n' or olah_indeks_sei == 'N':\n",
    "    print(\"olah indeks data tidak dilakukan\")\n",
    "else:\n",
    "    pass\n",
    "\n"
   ]
  },
  {
   "cell_type": "code",
   "execution_count": null,
   "id": "b2c1528f",
   "metadata": {},
   "outputs": [],
   "source": []
  },
  {
   "cell_type": "markdown",
   "id": "51336e15",
   "metadata": {},
   "source": [
    "# laporan ppt"
   ]
  },
  {
   "cell_type": "code",
   "execution_count": 8,
   "id": "fa0197e2",
   "metadata": {},
   "outputs": [
    {
     "name": "stdout",
     "output_type": "stream",
     "text": [
      "laporan tidak dibuat\n"
     ]
    }
   ],
   "source": [
    "\n",
    "if laporan_sei == 'y' or laporan_sei == 'Y':\n",
    "    print(\"Pembuatan laporan sedang dalam proses ...\")\n",
    "    start = time.time()\n",
    "\n",
    "    if kategori=='email':\n",
    "        bobot = 'bobot/bobot perhitungan email.xlsx'\n",
    "        bobot_indeks = pd.read_excel(bobot, sheet_name = 'indeks')\n",
    "        data_xls = pd.ExcelFile('tabel output/tabel output email %s.xlsx'%(str(data_tahun)))\n",
    "    elif kategori=='call center':\n",
    "        bobot = 'bobot/bobot perhitungan call center.xlsx'\n",
    "        bobot_indeks = pd.read_excel(bobot, sheet_name = 'indeks')\n",
    "        data_xls = pd.ExcelFile('tabel output/tabel output call center %s.xlsx'%(str(data_tahun)))\n",
    "    elif kategori=='twitter':\n",
    "        bobot = 'bobot/bobot perhitungan twitter.xlsx'\n",
    "        bobot_indeks = pd.read_excel(bobot, sheet_name = 'indeks')\n",
    "        data_xls = pd.ExcelFile('tabel output/tabel output twitter %s.xlsx'%(str(data_tahun)))\n",
    "\n",
    "    bobot_indeks = ppt_ccsei.bobot_indeks(bobot_indeks)\n",
    "    list_bulan = pd.read_excel(data_xls, sheet_name='index akhir').columns[1:-1].to_list()\n",
    "\n",
    "    # pembuatan laporan power point\n",
    "    template_ppt = ppt_ccsei.FileTemplate()\n",
    "\n",
    "    ppt_ccsei.slide_cover(template_ppt, kategori, data_tahun, list_bulan)\n",
    "    ppt_ccsei.slide_pembuka(template_ppt, gambar_footer)\n",
    "    ppt_ccsei.slide_daftar_isi(template_ppt, gambar_footer, kategori)\n",
    "    ppt_ccsei.slide_transisi(template_ppt, gambar_footer, 'Frame Work dan\\nDefinisi Dimensi dan KPI')\n",
    "    ppt_ccsei.slide_framework(template_ppt, gambar_footer, kategori)\n",
    "    ppt_ccsei.slide_definisi_dimensi(template_ppt, gambar_footer, kategori)\n",
    "\n",
    "    list_dimensi = bobot_indeks['DIMENSI'].unique()\n",
    "    for i in range(len(list_dimensi)):\n",
    "        dimensi_ = list_dimensi[i]\n",
    "        ppt_ccsei.slide_transisi(template_ppt, gambar_footer,'KINERJA DIMENSI '+dimensi_)\n",
    "\n",
    "        kpi_in_dimensi = bobot_indeks[bobot_indeks['DIMENSI'].isin([dimensi_])]['KPI'].unique()\n",
    "        for j in range(len(kpi_in_dimensi)):\n",
    "            kpi_ = kpi_in_dimensi[j]\n",
    "            ppt_ccsei.plot_grafik_tracking(template_ppt, gambar_footer, list_bulan,\n",
    "                                           data_xls, dimensi_, kpi_, client)\n",
    "\n",
    "            subkpi_in_dimensi = bobot_indeks[bobot_indeks['KPI'].isin([kpi_])]['SUB KPI'].unique()\n",
    "            for k in range(len(subkpi_in_dimensi)):\n",
    "                subkpi_ = subkpi_in_dimensi[k]\n",
    "                if (kategori=='twitter') or (kategori=='email'):\n",
    "                    ppt_ccsei.plot_tabel_data_semester(template_ppt, gambar_footer, list_bulan, data_xls,\n",
    "                                                       dimensi_, subkpi_,client, kategori, bobot_indeks)\n",
    "                else:\n",
    "                    ppt_ccsei.plot_tabel_data_semester(template_ppt, gambar_footer, list_bulan, data_xls,\n",
    "                                                       dimensi_, subkpi_,client)\n",
    "                ppt_ccsei.plot_barchart_tabel(template_ppt, gambar_footer, list_bulan, data_xls,\n",
    "                                              dimensi_, subkpi_,client, data_tahun, kategori, bobot_indeks)\n",
    "\n",
    "    ppt_ccsei.slide_transisi(template_ppt, gambar_footer, 'Engagement Index')\n",
    "    ppt_ccsei.plot_tabel_engagement(template_ppt, gambar_footer, list_bulan, data_xls, client, data_tahun)\n",
    "\n",
    "    ppt_ccsei.slide_transisi(template_ppt, gambar_footer, 'Area Perbaikan')\n",
    "    if kategori=='call center':\n",
    "        ppt_ccsei.plot_tabel_perbaikan(template_ppt, gambar_footer, list_bulan,\n",
    "                                       data_xls, bobot, client, data_tahun, kategori, kategori_call_center)\n",
    "    else:\n",
    "        ppt_ccsei.plot_tabel_perbaikan(template_ppt, gambar_footer, list_bulan,\n",
    "                                   data_xls, bobot, client, data_tahun, kategori)\n",
    "\n",
    "    ppt_ccsei.halaman_slide(template_ppt)\n",
    "    nama_laporan = 'laporan/Laporan '+kategori+\" \"+client+\" \"+str(data_tahun)+'.pptx'\n",
    "    template_ppt.save(nama_laporan)\n",
    "    print(\"laporan untuk %s berhasil dibuat\"%(client))\n",
    "    print(\"laporan berhasil disimpan di folder '%s' dengan nama '%s'\"%(nama_laporan.split('/')[0],nama_laporan.split('/')[1]))\n",
    "\n",
    "    end = time.time()\n",
    "    hours, rem = divmod(end-start, 3600)\n",
    "    minutes, seconds = divmod(rem, 60)\n",
    "    print(\"durasi pembuatan laporan: {:0>2} jam {:0>2} menit {:05.2f} detik\".format(int(hours),int(minutes),seconds))\n",
    "\n",
    "elif laporan_sei == 'n' or laporan_sei == 'N':\n",
    "    print(\"laporan tidak dibuat\")\n",
    "else:\n",
    "    pass\n"
   ]
  },
  {
   "cell_type": "code",
   "execution_count": 9,
   "id": "b16d9a8e",
   "metadata": {},
   "outputs": [
    {
     "name": "stdout",
     "output_type": "stream",
     "text": [
      "***Program telah selesai***\n"
     ]
    }
   ],
   "source": [
    "print(\"***Program telah selesai***\")"
   ]
  },
  {
   "cell_type": "code",
   "execution_count": null,
   "id": "e2003aef",
   "metadata": {},
   "outputs": [],
   "source": []
  }
 ],
 "metadata": {
  "kernelspec": {
   "display_name": "Python 3",
   "language": "python",
   "name": "python3"
  },
  "language_info": {
   "codemirror_mode": {
    "name": "ipython",
    "version": 3
   },
   "file_extension": ".py",
   "mimetype": "text/x-python",
   "name": "python",
   "nbconvert_exporter": "python",
   "pygments_lexer": "ipython3",
   "version": "3.9.1"
  },
  "toc": {
   "base_numbering": 1,
   "nav_menu": {},
   "number_sections": true,
   "sideBar": true,
   "skip_h1_title": false,
   "title_cell": "Table of Contents",
   "title_sidebar": "Contents",
   "toc_cell": false,
   "toc_position": {},
   "toc_section_display": true,
   "toc_window_display": true
  }
 },
 "nbformat": 4,
 "nbformat_minor": 5
}
