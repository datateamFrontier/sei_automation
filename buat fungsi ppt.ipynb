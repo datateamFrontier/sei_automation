{
 "cells": [
  {
   "cell_type": "markdown",
   "metadata": {
    "id": "CgZFZTxJTT6i"
   },
   "source": [
    "# Laporan"
   ]
  },
  {
   "cell_type": "code",
   "execution_count": 1,
   "metadata": {},
   "outputs": [],
   "source": [
    "import ppt_ccsei\n",
    "import pandas as pd\n",
    "\n",
    "data_tahun = 2021\n",
    "\n",
    "\n",
    "# kategori = 'call center'\n",
    "# kategori_call_center = 'car insurance'\n",
    "# client = 'Garda Akses Asuransi Astra'\n",
    "# gambar_footer = 'gambar/Asuransi Astra2.png'\n",
    "\n",
    "# kategori = 'email'\n",
    "# client = 'customercare@commbank.co.id'\n",
    "# gambar_footer='gambar/COMMBANK.jpg'\n",
    "\n",
    "kategori = 'twitter'\n",
    "client = '@GardaOto'\n",
    "gambar_footer = 'gambar/Asuransi Astra2.png'\n",
    "\n",
    "# kategori = 'online chat'\n",
    "# client = '@GardaOto'\n",
    "# gambar_footer = 'gambar/Asuransi Astra2.png'"
   ]
  },
  {
   "cell_type": "code",
   "execution_count": 2,
   "metadata": {},
   "outputs": [],
   "source": [
    "if kategori=='email':\n",
    "    bobot = 'bobot/bobot perhitungan email.xlsx'\n",
    "    bobot_indeks = pd.read_excel(bobot, sheet_name = 'indeks')\n",
    "    data_xls = pd.ExcelFile('tabel output/tabel output email.xlsx')\n",
    "elif kategori=='call center':\n",
    "    bobot = 'bobot/bobot perhitungan call center.xlsx'\n",
    "    bobot_indeks = pd.read_excel(bobot, sheet_name = 'indeks')\n",
    "    data_xls = pd.ExcelFile('tabel output/tabel output call center.xlsx')\n",
    "elif kategori=='twitter':\n",
    "    bobot = 'bobot/bobot perhitungan twitter.xlsx'\n",
    "    bobot_indeks = pd.read_excel(bobot, sheet_name = 'indeks')\n",
    "    data_xls = pd.ExcelFile('tabel output/tabel output twitter.xlsx')\n",
    "elif kategori=='online chat':\n",
    "    bobot = 'bobot/bobot perhitungan online chat.xlsx'\n",
    "    bobot_indeks = pd.read_excel(bobot, sheet_name = 'indeks')\n",
    "    data_xls = pd.ExcelFile('tabel output/tabel output online chat.xlsx')\n",
    "    \n",
    "bobot_indeks = ppt_ccsei.bobot_indeks(bobot_indeks)    \n",
    "\n",
    "list_bulan = pd.read_excel(data_xls, sheet_name='index akhir').columns[1:-1].to_list()"
   ]
  },
  {
   "cell_type": "code",
   "execution_count": null,
   "metadata": {},
   "outputs": [],
   "source": []
  },
  {
   "cell_type": "code",
   "execution_count": 3,
   "metadata": {
    "code_folding": [],
    "colab": {
     "base_uri": "https://localhost:8080/"
    },
    "id": "0qsCAv1leh70",
    "outputId": "60516f4a-6a3f-499f-e8b7-bf72f9de388a"
   },
   "outputs": [],
   "source": [
    "template_ppt = ppt_ccsei.FileTemplate()\n",
    "\n",
    "ppt_ccsei.slide_cover(template_ppt, kategori, data_tahun, list_bulan)\n",
    "ppt_ccsei.slide_pembuka(template_ppt, gambar_footer)\n",
    "ppt_ccsei.slide_daftar_isi(template_ppt, gambar_footer, kategori)\n",
    "ppt_ccsei.slide_transisi(template_ppt, gambar_footer, 'Frame Work dan\\nDefinisi Dimensi dan KPI')\n",
    "ppt_ccsei.slide_framework(template_ppt, gambar_footer, kategori)\n",
    "ppt_ccsei.slide_definisi_dimensi(template_ppt, gambar_footer, kategori)\n",
    "\n",
    "list_dimensi = bobot_indeks['DIMENSI'].unique()\n",
    "for i in range(len(list_dimensi)):\n",
    "    dimensi_ = list_dimensi[i]\n",
    "    ppt_ccsei.slide_transisi(template_ppt, gambar_footer,'KINERJA DIMENSI '+dimensi_)\n",
    "    \n",
    "    kpi_in_dimensi = bobot_indeks[bobot_indeks['DIMENSI'].isin([dimensi_])]['KPI'].unique()\n",
    "    for j in range(len(kpi_in_dimensi)):\n",
    "        kpi_ = kpi_in_dimensi[j]\n",
    "        ppt_ccsei.plot_grafik_tracking(template_ppt, gambar_footer, list_bulan, \n",
    "                                       data_xls, dimensi_, kpi_, client)\n",
    "        \n",
    "        subkpi_in_dimensi = bobot_indeks[bobot_indeks['KPI'].isin([kpi_])]['SUB KPI'].unique()\n",
    "        for k in range(len(subkpi_in_dimensi)):\n",
    "            subkpi_ = subkpi_in_dimensi[k]\n",
    "            if (kategori=='twitter') or (kategori=='online chat') or (kategori=='email'):\n",
    "                ppt_ccsei.plot_tabel_data_semester(template_ppt, gambar_footer, list_bulan, data_xls, \n",
    "                                                   dimensi_, subkpi_,client, kategori, bobot_indeks)\n",
    "            else:\n",
    "                ppt_ccsei.plot_tabel_data_semester(template_ppt, gambar_footer, list_bulan, data_xls, \n",
    "                                                   dimensi_, subkpi_,client)\n",
    "            ppt_ccsei.plot_barchart_tabel(template_ppt, gambar_footer, list_bulan, data_xls, \n",
    "                                          dimensi_, subkpi_,client, data_tahun, kategori, bobot_indeks)                \n",
    "\n",
    "ppt_ccsei.slide_transisi(template_ppt, gambar_footer, 'Engagement Index')\n",
    "ppt_ccsei.plot_tabel_engagement(template_ppt, gambar_footer, list_bulan, data_xls, client, data_tahun)\n",
    "\n",
    "ppt_ccsei.slide_transisi(template_ppt, gambar_footer, 'Area Perbaikan')\n",
    "if kategori=='call center':\n",
    "    ppt_ccsei.plot_tabel_perbaikan(template_ppt, gambar_footer, list_bulan, \n",
    "                                   data_xls, bobot, client, data_tahun, kategori, kategori_call_center)\n",
    "else:\n",
    "    ppt_ccsei.plot_tabel_perbaikan(template_ppt, gambar_footer, list_bulan, \n",
    "                               data_xls, bobot, client, data_tahun, kategori)\n",
    "\n",
    "ppt_ccsei.halaman_slide(template_ppt)\n",
    "\n",
    "template_ppt.save('coba Laporan '+client+'.pptx')"
   ]
  },
  {
   "cell_type": "markdown",
   "metadata": {},
   "source": [
    "# end"
   ]
  }
 ],
 "metadata": {
  "colab": {
   "collapsed_sections": [
    "9DzTm5FsyAno",
    "gjHVJHnhFioa",
    "l5DHGu7RSYcQ",
    "LvTE1t40SzUI"
   ],
   "name": "Salinan email.ipynb",
   "provenance": [],
   "toc_visible": true
  },
  "kernelspec": {
   "display_name": "Python 3 (ipykernel)",
   "language": "python",
   "name": "python3"
  },
  "language_info": {
   "codemirror_mode": {
    "name": "ipython",
    "version": 3
   },
   "file_extension": ".py",
   "mimetype": "text/x-python",
   "name": "python",
   "nbconvert_exporter": "python",
   "pygments_lexer": "ipython3",
   "version": "3.9.7"
  },
  "toc": {
   "base_numbering": 1,
   "nav_menu": {},
   "number_sections": true,
   "sideBar": true,
   "skip_h1_title": false,
   "title_cell": "Table of Contents",
   "title_sidebar": "Contents",
   "toc_cell": false,
   "toc_position": {
    "height": "calc(100% - 180px)",
    "left": "10px",
    "top": "150px",
    "width": "341.5px"
   },
   "toc_section_display": true,
   "toc_window_display": false
  }
 },
 "nbformat": 4,
 "nbformat_minor": 4
}
